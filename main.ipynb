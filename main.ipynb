{
 "cells": [
  {
   "cell_type": "markdown",
   "metadata": {},
   "source": [
    "# Branch de AnáliseFutura"
   ]
  },
  {
   "cell_type": "code",
   "execution_count": null,
   "metadata": {},
   "outputs": [
    {
     "name": "stderr",
     "output_type": "stream",
     "text": [
      "C:\\Users\\pedro\\Anaconda3\\lib\\site-packages\\h5py\\__init__.py:36: FutureWarning: Conversion of the second argument of issubdtype from `float` to `np.floating` is deprecated. In future, it will be treated as `np.float64 == np.dtype(float).type`.\n",
      "  from ._conv import register_converters as _register_converters\n",
      "Using TensorFlow backend.\n"
     ]
    }
   ],
   "source": [
    "import numpy as np # working with data\n",
    "import pandas as pd\n",
    "from keras.layers.core import Dense, Activation, Dropout\n",
    "from keras.layers.recurrent import LSTM\n",
    "from keras.models import Sequential\n",
    "from sklearn.preprocessing import MinMaxScaler\n",
    "import matplotlib.pyplot as plt\n",
    "import utilities"
   ]
  },
  {
   "cell_type": "markdown",
   "metadata": {},
   "source": [
    "# Predict Cryptocurrency Prices With Machine Learning #"
   ]
  },
  {
   "cell_type": "markdown",
   "metadata": {},
   "source": [
    "### Step 1 Load & Process Data"
   ]
  },
  {
   "cell_type": "code",
   "execution_count": null,
   "metadata": {},
   "outputs": [],
   "source": [
    "currency = \"BTC-USD\" # moeda a ser operada\n",
    "\n",
    "currency_data = utilities.get_dataset(currency=currency) #colocar todos os dados da \"currency\"(abertura, fechamento, data, valor) em currency_data\n",
    "#<class 'pandas.core.frame.DataFrame'>\n",
    "currency_close_price = currency_data.close.values.astype('float32') #convert os dados para dtype, podendo ser interpreto pelo numpy\n",
    "#<class 'numpy.ndarray'>\n",
    "currency_close_price = currency_close_price.reshape(len(currency_close_price), 1) #convert para array"
   ]
  },
  {
   "cell_type": "code",
   "execution_count": null,
   "metadata": {},
   "outputs": [],
   "source": [
    "def create_datasets(dataset, sequence_length):\n",
    "    sequence_length += 1\n",
    "    seq_dataset = [] #lista\n",
    "    for i in range(len(dataset) - sequence_length):\n",
    "        seq_dataset.append(dataset[i: i + sequence_length])\n",
    "   \n",
    "    seq_dataset = np.array(seq_dataset)\n",
    "    #print(seq_dataset)\n",
    "    data_x = seq_dataset[:, :-1]\n",
    "    #print(data_x)\n",
    "    data_y = seq_dataset[:, -1]\n",
    "    \n",
    "    #print(data_y)\n",
    "    return data_x, data_y\n",
    "scaler = MinMaxScaler(feature_range=(0, 1))\n",
    "#fazendo o escalonamento dos dados para não utilizar os momentos de grande oscilações da crypto. (Normalizing Data)\n",
    "#scaler = <class 'sklearn.preprocessing.data.MinMaxScaler'>\n",
    "currency_close_price_scaled = scaler.fit_transform(currency_close_price)\n",
    "train_size = 2987\n",
    "#train_size = int(len(currency_close_price_scaled) * 0.85)\n",
    "print(type(train_size))\n",
    "test_size = 10\n",
    "#test_size = len(currency_close_price_scaled) - train_size\n",
    "print(type(test_size))\n",
    "train, test = currency_close_price_scaled[0:train_size,:], currency_close_price_scaled[train_size:len(currency_close_price_scaled),:]\n",
    "\n",
    "look_back = 10\n",
    "\n",
    "x_train, y_train = create_datasets(train, look_back)\n",
    "x_test, y_test = create_datasets(test, look_back)\n"
   ]
  },
  {
   "cell_type": "markdown",
   "metadata": {},
   "source": [
    "### Step 2 Build Model"
   ]
  },
  {
   "cell_type": "code",
   "execution_count": null,
   "metadata": {},
   "outputs": [],
   "source": [
    "model = Sequential() #simples modelo de inicialização do Sequencial\n",
    "#Sequential: é um modelo é uma pilha linear de camadas.\n",
    "\n",
    "model.add(LSTM( #Aplicação da Rede Neural LSTM (rede na qual todas as informações são recebidas \n",
    "    #em sequencia e reavaliadas pelo neuronio)\n",
    "    input_dim=1,\n",
    "    #dimensionalidade da entrada (integer). Esse argumento (ou, alternativamente, o argumento da palavra-chave input_shape)\n",
    "    #é necessário ao usar essa camada como a primeira camada em um modelo.\n",
    "    output_dim=50,\n",
    "    #dimensão das projeções internas e do resultado final\n",
    "    return_sequences=True))\n",
    "    #Boleano. Se deve retornar a última saída na sequência de saída ou a sequência completa.\n",
    "model.add(Dropout(0.35))\n",
    "    #consiste em configurar aleatoriamente uma taxa de fração de unidades de \n",
    "    #entrada para 0 a cada atualização durante o tempo de treinamento, o que ajuda a evitar o overfitting.\n",
    "model.add(LSTM(\n",
    "    100,\n",
    "    return_sequences=False))\n",
    "model.add(Dropout(0.30))\n",
    "\n",
    "model.add(Dense(\n",
    "    #Dense: a camada(ou layer) Dense é uma camada onde cada unidade ou neurônio é conectado a cada neurônio na próxima camada.\n",
    "    output_dim=1))\n",
    "model.add(Activation('linear'))\n",
    "\n",
    "# Para um problema de regressão de erro quadrático médio:\n",
    "model.compile(loss='mse', optimizer='rmsprop')\n",
    "#adicionar um modelo de compilação com otimizador e uma função de erro\n",
    "#rmsprop: uma boa escolhe de otimizador para RNN"
   ]
  },
  {
   "cell_type": "code",
   "execution_count": null,
   "metadata": {
    "scrolled": true
   },
   "outputs": [],
   "source": [
    "history = model.fit(x_train, y_train, batch_size=64, epochs=30, verbose=2, validation_split=0.2)\n",
    "#fit: Treinamento do modelo"
   ]
  },
  {
   "cell_type": "code",
   "execution_count": null,
   "metadata": {
    "scrolled": true
   },
   "outputs": [],
   "source": [
    "plt.plot(history.history['loss'])\n",
    "plt.plot(history.history['val_loss'])\n",
    "plt.title('model loss')\n",
    "plt.ylabel('loss')\n",
    "plt.xlabel('epoch')\n",
    "plt.legend(['train', 'validation'], loc='upper left')\n",
    "plt.show()"
   ]
  },
  {
   "cell_type": "markdown",
   "metadata": {},
   "source": [
    "### Step 3 Predict"
   ]
  },
  {
   "cell_type": "code",
   "execution_count": null,
   "metadata": {},
   "outputs": [],
   "source": [
    "#Atribui as predições aos determinados valores\n",
    "train_predict = model.predict(x_train)\n",
    "test_predict = model.predict(x_test)\n",
    "\n",
    "#Diminuir os dados para a representação original\n",
    "train_predict_unnorm = scaler.inverse_transform(train_predict)\n",
    "test_predict_unnorm = scaler.inverse_transform(test_predict)\n",
    "\n",
    "# CREATING SIMILAR DATASET TO PLOT TRAINING PREDICTIONS\n",
    "trainPredictPlot = np.empty_like(currency_close_price)\n",
    "trainPredictPlot[:, :] = np.nan\n",
    "trainPredictPlot[look_back:len(train_predict_unnorm)+look_back, :] = train_predict_unnorm\n",
    "\n",
    "# CREATING SIMILAR DATASSET TO PLOT TEST PREDICTIONS\n",
    "testPredictPlot = np.empty_like(currency_close_price)\n",
    "testPredictPlot[:, :] = np.nan\n",
    "testPredictPlot[len(train_predict_unnorm)+(look_back*2)+1:len(currency_close_price)-1, :] = test_predict_unnorm\n",
    "\n",
    "plt.figure(figsize=(30, 20))\n",
    "plt.plot(currency_close_price, 'g', label = 'original dataset')\n",
    "plt.plot(trainPredictPlot, 'r', label = 'training set')\n",
    "plt.plot(testPredictPlot, 'b', label = 'predicted price/test set')\n",
    "plt.legend(loc = 'upper left')\n",
    "plt.xlabel('Time in Days')\n",
    "plt.ylabel('Price')\n",
    "\n",
    "plt.title(\"%s price %s - % s\" % (currency, \n",
    "                                 utilities.get_date_from_current(offset=len(currency_close_price)), \n",
    "                                 utilities.get_date_from_current(0)))\n",
    "\n",
    "plt.show()\n"
   ]
  },
  {
   "cell_type": "code",
   "execution_count": null,
   "metadata": {},
   "outputs": [],
   "source": [
    "print(type(testPredictPlot))\n",
    "print(testPredictPlot)\n",
    "np.savetxt(\"teste.txt\", testPredictPlot, delimiter=\",\")"
   ]
  },
  {
   "cell_type": "code",
   "execution_count": null,
   "metadata": {},
   "outputs": [],
   "source": [
    "pd.DataFrame(testPredictPlot, np.arange(0,len(testPredictPlot)))"
   ]
  },
  {
   "cell_type": "code",
   "execution_count": null,
   "metadata": {},
   "outputs": [],
   "source": []
  },
  {
   "cell_type": "code",
   "execution_count": null,
   "metadata": {},
   "outputs": [],
   "source": []
  }
 ],
 "metadata": {
  "kernelspec": {
   "display_name": "Python 3",
   "language": "python",
   "name": "python3"
  },
  "language_info": {
   "codemirror_mode": {
    "name": "ipython",
    "version": 3
   },
   "file_extension": ".py",
   "mimetype": "text/x-python",
   "name": "python",
   "nbconvert_exporter": "python",
   "pygments_lexer": "ipython3",
   "version": "3.6.5"
  }
 },
 "nbformat": 4,
 "nbformat_minor": 2
}
